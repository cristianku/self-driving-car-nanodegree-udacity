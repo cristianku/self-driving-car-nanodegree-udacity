{
 "cells": [
  {
   "cell_type": "code",
   "execution_count": 2,
   "metadata": {},
   "outputs": [
    {
     "name": "stdout",
     "output_type": "stream",
     "text": [
      "Extracting ./train-images-idx3-ubyte.gz\n",
      "Extracting ./train-labels-idx1-ubyte.gz\n",
      "Extracting ./t10k-images-idx3-ubyte.gz\n",
      "Extracting ./t10k-labels-idx1-ubyte.gz\n"
     ]
    }
   ],
   "source": [
    "from tensorflow.examples.tutorials.mnist import input_data\n",
    "mnist = input_data.read_data_sets(\".\", one_hot=True, reshape=False)\n",
    "\n",
    "import tensorflow as tf\n",
    "\n",
    "# Parameters\n",
    "learning_rate = 0.00001\n",
    "epochs = 10\n",
    "batch_size = 128\n",
    "\n",
    "# Number of samples to calculate validation and accuracy\n",
    "# Decrease this if you're running out of memory to calculate accuracy\n",
    "test_valid_size = 256\n",
    "\n",
    "# Network Parameters\n",
    "n_classes = 10  # MNIST total classes (0-9 digits)\n",
    "dropout = 0.75  # Dropout, probability to keep units"
   ]
  },
  {
   "cell_type": "code",
   "execution_count": 3,
   "metadata": {
    "collapsed": true
   },
   "outputs": [],
   "source": [
    "# Store layers weight & bias\n",
    "weights = {\n",
    "    'wc1': tf.Variable(tf.random_normal([5, 5, 1, 32])),\n",
    "    'wc2': tf.Variable(tf.random_normal([5, 5, 32, 64])),\n",
    "    'wd1': tf.Variable(tf.random_normal([7*7*64, 1024])),\n",
    "    'out': tf.Variable(tf.random_normal([1024, n_classes]))}\n",
    "\n",
    "biases = {\n",
    "    'bc1': tf.Variable(tf.random_normal([32])),\n",
    "    'bc2': tf.Variable(tf.random_normal([64])),\n",
    "    'bd1': tf.Variable(tf.random_normal([1024])),\n",
    "    'out': tf.Variable(tf.random_normal([n_classes]))}"
   ]
  },
  {
   "cell_type": "code",
   "execution_count": 4,
   "metadata": {
    "collapsed": true
   },
   "outputs": [],
   "source": [
    "def conv2d(x, W, b, strides=1):\n",
    "    x = tf.nn.conv2d(x, W, strides=[1, strides, strides, 1], padding='SAME')\n",
    "    x = tf.nn.bias_add(x, b)\n",
    "    return tf.nn.relu(x)"
   ]
  },
  {
   "cell_type": "code",
   "execution_count": 5,
   "metadata": {
    "collapsed": true
   },
   "outputs": [],
   "source": [
    "def maxpool2d(x, k=2):\n",
    "    return tf.nn.max_pool(\n",
    "        x,\n",
    "        ksize=[1, k, k, 1],\n",
    "        strides=[1, k, k, 1],\n",
    "        padding='SAME')"
   ]
  },
  {
   "cell_type": "code",
   "execution_count": 6,
   "metadata": {
    "collapsed": true
   },
   "outputs": [],
   "source": [
    "def conv_net(x, weights, biases, dropout):\n",
    "    # Layer 1 - 28*28*1 to 14*14*32\n",
    "    conv1 = conv2d(x, weights['wc1'], biases['bc1'])\n",
    "    conv1 = maxpool2d(conv1, k=2)\n",
    "\n",
    "    # Layer 2 - 14*14*32 to 7*7*64\n",
    "    conv2 = conv2d(conv1, weights['wc2'], biases['bc2'])\n",
    "    conv2 = maxpool2d(conv2, k=2)\n",
    "\n",
    "    # Fully connected layer - 7*7*64 to 1024\n",
    "    fc1 = tf.reshape(conv2, [-1, weights['wd1'].get_shape().as_list()[0]])\n",
    "    fc1 = tf.add(tf.matmul(fc1, weights['wd1']), biases['bd1'])\n",
    "    fc1 = tf.nn.relu(fc1)\n",
    "    fc1 = tf.nn.dropout(fc1, dropout)\n",
    "\n",
    "    # Output Layer - class prediction - 1024 to 10\n",
    "    out = tf.add(tf.matmul(fc1, weights['out']), biases['out'])\n",
    "    return out"
   ]
  },
  {
   "cell_type": "code",
   "execution_count": 7,
   "metadata": {},
   "outputs": [
    {
     "name": "stdout",
     "output_type": "stream",
     "text": [
      "Epoch  1, Batch   1 -Loss: 42779.6719 Validation Accuracy: 0.050781\n",
      "Epoch  1, Batch  11 -Loss: 22366.7383 Validation Accuracy: 0.136719\n",
      "Epoch  1, Batch  21 -Loss: 18726.4590 Validation Accuracy: 0.218750\n",
      "Epoch  1, Batch  31 -Loss: 12321.4814 Validation Accuracy: 0.242188\n",
      "Epoch  1, Batch  41 -Loss:  9739.3359 Validation Accuracy: 0.285156\n",
      "Epoch  1, Batch  51 -Loss: 10176.8350 Validation Accuracy: 0.355469\n",
      "Epoch  1, Batch  61 -Loss:  8985.3223 Validation Accuracy: 0.394531\n",
      "Epoch  1, Batch  71 -Loss: 10214.8594 Validation Accuracy: 0.425781\n",
      "Epoch  1, Batch  81 -Loss:  6631.3701 Validation Accuracy: 0.449219\n",
      "Epoch  1, Batch  91 -Loss:  6694.0879 Validation Accuracy: 0.464844\n",
      "Epoch  1, Batch 101 -Loss:  6149.9775 Validation Accuracy: 0.488281\n",
      "Epoch  1, Batch 111 -Loss:  5418.2417 Validation Accuracy: 0.507812\n",
      "Epoch  1, Batch 121 -Loss:  4364.9990 Validation Accuracy: 0.531250\n",
      "Epoch  1, Batch 131 -Loss:  4811.9297 Validation Accuracy: 0.531250\n",
      "Epoch  1, Batch 141 -Loss:  4132.8740 Validation Accuracy: 0.542969\n",
      "Epoch  1, Batch 151 -Loss:  4669.5664 Validation Accuracy: 0.558594\n",
      "Epoch  1, Batch 161 -Loss:  2473.0913 Validation Accuracy: 0.570312\n",
      "Epoch  1, Batch 171 -Loss:  3006.8901 Validation Accuracy: 0.566406\n",
      "Epoch  1, Batch 181 -Loss:  2464.9331 Validation Accuracy: 0.578125\n",
      "Epoch  1, Batch 191 -Loss:  2427.4800 Validation Accuracy: 0.578125\n",
      "Epoch  1, Batch 201 -Loss:  3901.4656 Validation Accuracy: 0.589844\n",
      "Epoch  1, Batch 211 -Loss:  2656.0278 Validation Accuracy: 0.593750\n",
      "Epoch  1, Batch 221 -Loss:  2701.0122 Validation Accuracy: 0.597656\n",
      "Epoch  1, Batch 231 -Loss:  2691.3677 Validation Accuracy: 0.593750\n",
      "Epoch  1, Batch 241 -Loss:  3005.2490 Validation Accuracy: 0.597656\n",
      "Epoch  1, Batch 251 -Loss:  2137.3787 Validation Accuracy: 0.593750\n",
      "Epoch  1, Batch 261 -Loss:  2793.9558 Validation Accuracy: 0.593750\n",
      "Epoch  1, Batch 271 -Loss:  2348.1233 Validation Accuracy: 0.605469\n",
      "Epoch  1, Batch 281 -Loss:  1529.1956 Validation Accuracy: 0.609375\n",
      "Epoch  1, Batch 291 -Loss:  2353.8813 Validation Accuracy: 0.621094\n",
      "Epoch  1, Batch 301 -Loss:  2894.8638 Validation Accuracy: 0.625000\n",
      "Epoch  1, Batch 311 -Loss:  2319.3208 Validation Accuracy: 0.632812\n",
      "Epoch  1, Batch 321 -Loss:  2699.7644 Validation Accuracy: 0.625000\n",
      "Epoch  1, Batch 331 -Loss:  2704.9409 Validation Accuracy: 0.628906\n",
      "Epoch  1, Batch 341 -Loss:  1580.1104 Validation Accuracy: 0.640625\n",
      "Epoch  1, Batch 351 -Loss:  2647.2139 Validation Accuracy: 0.644531\n",
      "Epoch  1, Batch 361 -Loss:  2563.3672 Validation Accuracy: 0.652344\n",
      "Epoch  1, Batch 371 -Loss:  1235.2758 Validation Accuracy: 0.660156\n",
      "Epoch  1, Batch 381 -Loss:  1586.9453 Validation Accuracy: 0.652344\n",
      "Epoch  1, Batch 391 -Loss:  2229.3403 Validation Accuracy: 0.664062\n",
      "Epoch  1, Batch 401 -Loss:  1803.4592 Validation Accuracy: 0.656250\n",
      "Epoch  1, Batch 411 -Loss:  1976.5216 Validation Accuracy: 0.656250\n",
      "Epoch  1, Batch 421 -Loss:  1076.8647 Validation Accuracy: 0.671875\n",
      "Epoch  2, Batch   1 -Loss:  1623.8469 Validation Accuracy: 0.667969\n",
      "Epoch  2, Batch  11 -Loss:  1373.2969 Validation Accuracy: 0.683594\n",
      "Epoch  2, Batch  21 -Loss:  1170.6802 Validation Accuracy: 0.687500\n",
      "Epoch  2, Batch  31 -Loss:  1727.8529 Validation Accuracy: 0.683594\n",
      "Epoch  2, Batch  41 -Loss:  1561.5316 Validation Accuracy: 0.691406\n",
      "Epoch  2, Batch  51 -Loss:  1525.2097 Validation Accuracy: 0.703125\n",
      "Epoch  2, Batch  61 -Loss:  1255.0596 Validation Accuracy: 0.699219\n",
      "Epoch  2, Batch  71 -Loss:  1234.9509 Validation Accuracy: 0.691406\n",
      "Epoch  2, Batch  81 -Loss:  1323.8066 Validation Accuracy: 0.691406\n",
      "Epoch  2, Batch  91 -Loss:  1205.0247 Validation Accuracy: 0.695312\n",
      "Epoch  2, Batch 101 -Loss:  1541.2087 Validation Accuracy: 0.699219\n",
      "Epoch  2, Batch 111 -Loss:  1157.8925 Validation Accuracy: 0.683594\n",
      "Epoch  2, Batch 121 -Loss:  1529.5828 Validation Accuracy: 0.707031\n",
      "Epoch  2, Batch 131 -Loss:  1545.1567 Validation Accuracy: 0.707031\n",
      "Epoch  2, Batch 141 -Loss:  1101.7775 Validation Accuracy: 0.703125\n",
      "Epoch  2, Batch 151 -Loss:  1242.6816 Validation Accuracy: 0.703125\n",
      "Epoch  2, Batch 161 -Loss:  1012.1340 Validation Accuracy: 0.707031\n",
      "Epoch  2, Batch 171 -Loss:  1140.8143 Validation Accuracy: 0.710938\n",
      "Epoch  2, Batch 181 -Loss:  1920.8778 Validation Accuracy: 0.699219\n",
      "Epoch  2, Batch 191 -Loss:  1516.9578 Validation Accuracy: 0.699219\n",
      "Epoch  2, Batch 201 -Loss:  1218.0718 Validation Accuracy: 0.703125\n",
      "Epoch  2, Batch 211 -Loss:   954.2302 Validation Accuracy: 0.699219\n",
      "Epoch  2, Batch 221 -Loss:   944.9250 Validation Accuracy: 0.703125\n",
      "Epoch  2, Batch 231 -Loss:  1013.5183 Validation Accuracy: 0.703125\n",
      "Epoch  2, Batch 241 -Loss:  1276.4574 Validation Accuracy: 0.699219\n",
      "Epoch  2, Batch 251 -Loss:  1180.4792 Validation Accuracy: 0.710938\n",
      "Epoch  2, Batch 261 -Loss:  1260.2959 Validation Accuracy: 0.703125\n",
      "Epoch  2, Batch 271 -Loss:  1054.1880 Validation Accuracy: 0.695312\n",
      "Epoch  2, Batch 281 -Loss:  1024.8462 Validation Accuracy: 0.710938\n",
      "Epoch  2, Batch 291 -Loss:  1041.5662 Validation Accuracy: 0.699219\n",
      "Epoch  2, Batch 301 -Loss:  1009.7798 Validation Accuracy: 0.718750\n",
      "Epoch  2, Batch 311 -Loss:  1148.1953 Validation Accuracy: 0.714844\n",
      "Epoch  2, Batch 321 -Loss:  1124.0754 Validation Accuracy: 0.707031\n",
      "Epoch  2, Batch 331 -Loss:  1197.5789 Validation Accuracy: 0.699219\n",
      "Epoch  2, Batch 341 -Loss:  1239.9352 Validation Accuracy: 0.703125\n",
      "Epoch  2, Batch 351 -Loss:  1260.2263 Validation Accuracy: 0.710938\n",
      "Epoch  2, Batch 361 -Loss:  1146.9580 Validation Accuracy: 0.703125\n",
      "Epoch  2, Batch 371 -Loss:   942.8395 Validation Accuracy: 0.699219\n",
      "Epoch  2, Batch 381 -Loss:  1210.5079 Validation Accuracy: 0.703125\n",
      "Epoch  2, Batch 391 -Loss:  1286.3308 Validation Accuracy: 0.714844\n",
      "Epoch  2, Batch 401 -Loss:   892.4448 Validation Accuracy: 0.714844\n",
      "Epoch  2, Batch 411 -Loss:   895.2637 Validation Accuracy: 0.710938\n",
      "Epoch  2, Batch 421 -Loss:  1029.2739 Validation Accuracy: 0.707031\n",
      "Epoch  3, Batch   1 -Loss:  1153.1743 Validation Accuracy: 0.703125\n",
      "Epoch  3, Batch  11 -Loss:  1209.8711 Validation Accuracy: 0.699219\n",
      "Epoch  3, Batch  21 -Loss:  1012.5137 Validation Accuracy: 0.703125\n",
      "Epoch  3, Batch  31 -Loss:   859.0299 Validation Accuracy: 0.718750\n"
     ]
    },
    {
     "ename": "KeyboardInterrupt",
     "evalue": "",
     "output_type": "error",
     "traceback": [
      "\u001b[0;31m---------------------------------------------------------------------------\u001b[0m",
      "\u001b[0;31mKeyboardInterrupt\u001b[0m                         Traceback (most recent call last)",
      "\u001b[0;32m<ipython-input-7-658dc8da2da2>\u001b[0m in \u001b[0;36m<module>\u001b[0;34m()\u001b[0m\n\u001b[1;32m     28\u001b[0m                 \u001b[0mx\u001b[0m\u001b[0;34m:\u001b[0m \u001b[0mbatch_x\u001b[0m\u001b[0;34m,\u001b[0m\u001b[0;34m\u001b[0m\u001b[0m\n\u001b[1;32m     29\u001b[0m                 \u001b[0my\u001b[0m\u001b[0;34m:\u001b[0m \u001b[0mbatch_y\u001b[0m\u001b[0;34m,\u001b[0m\u001b[0;34m\u001b[0m\u001b[0m\n\u001b[0;32m---> 30\u001b[0;31m                 keep_prob: dropout})\n\u001b[0m\u001b[1;32m     31\u001b[0m \u001b[0;34m\u001b[0m\u001b[0m\n\u001b[1;32m     32\u001b[0m             \u001b[0;32mif\u001b[0m \u001b[0mbatch\u001b[0m \u001b[0;34m%\u001b[0m \u001b[0;36m10\u001b[0m \u001b[0;34m==\u001b[0m\u001b[0;36m0\u001b[0m\u001b[0;34m:\u001b[0m\u001b[0;34m\u001b[0m\u001b[0m\n",
      "\u001b[0;32m~/anaconda2/anaconda/envs/carnd-term1/lib/python3.5/site-packages/tensorflow/python/client/session.py\u001b[0m in \u001b[0;36mrun\u001b[0;34m(self, fetches, feed_dict, options, run_metadata)\u001b[0m\n\u001b[1;32m    764\u001b[0m     \u001b[0;32mtry\u001b[0m\u001b[0;34m:\u001b[0m\u001b[0;34m\u001b[0m\u001b[0m\n\u001b[1;32m    765\u001b[0m       result = self._run(None, fetches, feed_dict, options_ptr,\n\u001b[0;32m--> 766\u001b[0;31m                          run_metadata_ptr)\n\u001b[0m\u001b[1;32m    767\u001b[0m       \u001b[0;32mif\u001b[0m \u001b[0mrun_metadata\u001b[0m\u001b[0;34m:\u001b[0m\u001b[0;34m\u001b[0m\u001b[0m\n\u001b[1;32m    768\u001b[0m         \u001b[0mproto_data\u001b[0m \u001b[0;34m=\u001b[0m \u001b[0mtf_session\u001b[0m\u001b[0;34m.\u001b[0m\u001b[0mTF_GetBuffer\u001b[0m\u001b[0;34m(\u001b[0m\u001b[0mrun_metadata_ptr\u001b[0m\u001b[0;34m)\u001b[0m\u001b[0;34m\u001b[0m\u001b[0m\n",
      "\u001b[0;32m~/anaconda2/anaconda/envs/carnd-term1/lib/python3.5/site-packages/tensorflow/python/client/session.py\u001b[0m in \u001b[0;36m_run\u001b[0;34m(self, handle, fetches, feed_dict, options, run_metadata)\u001b[0m\n\u001b[1;32m    962\u001b[0m     \u001b[0;32mif\u001b[0m \u001b[0mfinal_fetches\u001b[0m \u001b[0;32mor\u001b[0m \u001b[0mfinal_targets\u001b[0m\u001b[0;34m:\u001b[0m\u001b[0;34m\u001b[0m\u001b[0m\n\u001b[1;32m    963\u001b[0m       results = self._do_run(handle, final_targets, final_fetches,\n\u001b[0;32m--> 964\u001b[0;31m                              feed_dict_string, options, run_metadata)\n\u001b[0m\u001b[1;32m    965\u001b[0m     \u001b[0;32melse\u001b[0m\u001b[0;34m:\u001b[0m\u001b[0;34m\u001b[0m\u001b[0m\n\u001b[1;32m    966\u001b[0m       \u001b[0mresults\u001b[0m \u001b[0;34m=\u001b[0m \u001b[0;34m[\u001b[0m\u001b[0;34m]\u001b[0m\u001b[0;34m\u001b[0m\u001b[0m\n",
      "\u001b[0;32m~/anaconda2/anaconda/envs/carnd-term1/lib/python3.5/site-packages/tensorflow/python/client/session.py\u001b[0m in \u001b[0;36m_do_run\u001b[0;34m(self, handle, target_list, fetch_list, feed_dict, options, run_metadata)\u001b[0m\n\u001b[1;32m   1012\u001b[0m     \u001b[0;32mif\u001b[0m \u001b[0mhandle\u001b[0m \u001b[0;32mis\u001b[0m \u001b[0;32mNone\u001b[0m\u001b[0;34m:\u001b[0m\u001b[0;34m\u001b[0m\u001b[0m\n\u001b[1;32m   1013\u001b[0m       return self._do_call(_run_fn, self._session, feed_dict, fetch_list,\n\u001b[0;32m-> 1014\u001b[0;31m                            target_list, options, run_metadata)\n\u001b[0m\u001b[1;32m   1015\u001b[0m     \u001b[0;32melse\u001b[0m\u001b[0;34m:\u001b[0m\u001b[0;34m\u001b[0m\u001b[0m\n\u001b[1;32m   1016\u001b[0m       return self._do_call(_prun_fn, self._session, handle, feed_dict,\n",
      "\u001b[0;32m~/anaconda2/anaconda/envs/carnd-term1/lib/python3.5/site-packages/tensorflow/python/client/session.py\u001b[0m in \u001b[0;36m_do_call\u001b[0;34m(self, fn, *args)\u001b[0m\n\u001b[1;32m   1019\u001b[0m   \u001b[0;32mdef\u001b[0m \u001b[0m_do_call\u001b[0m\u001b[0;34m(\u001b[0m\u001b[0mself\u001b[0m\u001b[0;34m,\u001b[0m \u001b[0mfn\u001b[0m\u001b[0;34m,\u001b[0m \u001b[0;34m*\u001b[0m\u001b[0margs\u001b[0m\u001b[0;34m)\u001b[0m\u001b[0;34m:\u001b[0m\u001b[0;34m\u001b[0m\u001b[0m\n\u001b[1;32m   1020\u001b[0m     \u001b[0;32mtry\u001b[0m\u001b[0;34m:\u001b[0m\u001b[0;34m\u001b[0m\u001b[0m\n\u001b[0;32m-> 1021\u001b[0;31m       \u001b[0;32mreturn\u001b[0m \u001b[0mfn\u001b[0m\u001b[0;34m(\u001b[0m\u001b[0;34m*\u001b[0m\u001b[0margs\u001b[0m\u001b[0;34m)\u001b[0m\u001b[0;34m\u001b[0m\u001b[0m\n\u001b[0m\u001b[1;32m   1022\u001b[0m     \u001b[0;32mexcept\u001b[0m \u001b[0merrors\u001b[0m\u001b[0;34m.\u001b[0m\u001b[0mOpError\u001b[0m \u001b[0;32mas\u001b[0m \u001b[0me\u001b[0m\u001b[0;34m:\u001b[0m\u001b[0;34m\u001b[0m\u001b[0m\n\u001b[1;32m   1023\u001b[0m       \u001b[0mmessage\u001b[0m \u001b[0;34m=\u001b[0m \u001b[0mcompat\u001b[0m\u001b[0;34m.\u001b[0m\u001b[0mas_text\u001b[0m\u001b[0;34m(\u001b[0m\u001b[0me\u001b[0m\u001b[0;34m.\u001b[0m\u001b[0mmessage\u001b[0m\u001b[0;34m)\u001b[0m\u001b[0;34m\u001b[0m\u001b[0m\n",
      "\u001b[0;32m~/anaconda2/anaconda/envs/carnd-term1/lib/python3.5/site-packages/tensorflow/python/client/session.py\u001b[0m in \u001b[0;36m_run_fn\u001b[0;34m(session, feed_dict, fetch_list, target_list, options, run_metadata)\u001b[0m\n\u001b[1;32m   1001\u001b[0m         return tf_session.TF_Run(session, options,\n\u001b[1;32m   1002\u001b[0m                                  \u001b[0mfeed_dict\u001b[0m\u001b[0;34m,\u001b[0m \u001b[0mfetch_list\u001b[0m\u001b[0;34m,\u001b[0m \u001b[0mtarget_list\u001b[0m\u001b[0;34m,\u001b[0m\u001b[0;34m\u001b[0m\u001b[0m\n\u001b[0;32m-> 1003\u001b[0;31m                                  status, run_metadata)\n\u001b[0m\u001b[1;32m   1004\u001b[0m \u001b[0;34m\u001b[0m\u001b[0m\n\u001b[1;32m   1005\u001b[0m     \u001b[0;32mdef\u001b[0m \u001b[0m_prun_fn\u001b[0m\u001b[0;34m(\u001b[0m\u001b[0msession\u001b[0m\u001b[0;34m,\u001b[0m \u001b[0mhandle\u001b[0m\u001b[0;34m,\u001b[0m \u001b[0mfeed_dict\u001b[0m\u001b[0;34m,\u001b[0m \u001b[0mfetch_list\u001b[0m\u001b[0;34m)\u001b[0m\u001b[0;34m:\u001b[0m\u001b[0;34m\u001b[0m\u001b[0m\n",
      "\u001b[0;31mKeyboardInterrupt\u001b[0m: "
     ]
    }
   ],
   "source": [
    "# tf Graph input\n",
    "x = tf.placeholder(tf.float32, [None, 28, 28, 1])\n",
    "y = tf.placeholder(tf.float32, [None, n_classes])\n",
    "keep_prob = tf.placeholder(tf.float32)\n",
    "\n",
    "# Model\n",
    "logits = conv_net(x, weights, biases, keep_prob)\n",
    "\n",
    "# Define loss and optimizer\n",
    "cost = tf.reduce_mean(\\\n",
    "    tf.nn.softmax_cross_entropy_with_logits(logits=logits, labels=y))\n",
    "optimizer = tf.train.GradientDescentOptimizer(learning_rate=learning_rate)\\\n",
    "    .minimize(cost)\n",
    "\n",
    "# Accuracy\n",
    "correct_pred = tf.equal(tf.argmax(logits, 1), tf.argmax(y, 1))\n",
    "accuracy = tf.reduce_mean(tf.cast(correct_pred, tf.float32))\n",
    "\n",
    "# Initializing the variables\n",
    "init = tf. global_variables_initializer()\n",
    "\n",
    "# Launch the graph\n",
    "with tf.Session() as sess:\n",
    "    sess.run(init)\n",
    "\n",
    "    for epoch in range(epochs):\n",
    "        for batch in range(mnist.train.num_examples//batch_size):\n",
    "            batch_x, batch_y = mnist.train.next_batch(batch_size)\n",
    "            sess.run(optimizer, feed_dict={\n",
    "                x: batch_x,\n",
    "                y: batch_y,\n",
    "                keep_prob: dropout})\n",
    "\n",
    "            if batch % 10 ==0:\n",
    "            # Calculate batch loss and accuracy\n",
    "             loss = sess.run(cost, feed_dict={\n",
    "                x: batch_x,\n",
    "                y: batch_y,\n",
    "                keep_prob: 1.})\n",
    "             valid_acc = sess.run(accuracy, feed_dict={\n",
    "                x: mnist.validation.images[:test_valid_size],\n",
    "                y: mnist.validation.labels[:test_valid_size],\n",
    "                keep_prob: 1.})\n",
    "             print('Epoch {:>2}, Batch {:>3} -'\n",
    "                  'Loss: {:>10.4f} Validation Accuracy: {:.6f}'.format(\n",
    "                epoch + 1,\n",
    "                batch + 1,\n",
    "                loss,\n",
    "                valid_acc))\n",
    "\n",
    "    # Calculate Test Accuracy\n",
    "    test_acc = sess.run(accuracy, feed_dict={\n",
    "        x: mnist.test.images[:test_valid_size],\n",
    "        y: mnist.test.labels[:test_valid_size],\n",
    "        keep_prob: 1.})\n",
    "    print('Testing Accuracy: {}'.format(test_acc))"
   ]
  },
  {
   "cell_type": "code",
   "execution_count": 16,
   "metadata": {},
   "outputs": [],
   "source": [
    "import numpy as np\n",
    "a = np.array([[1,2,3],\n",
    "              [4,5,6],\n",
    "              [7,8,9]])"
   ]
  },
  {
   "cell_type": "code",
   "execution_count": 20,
   "metadata": {
    "collapsed": true
   },
   "outputs": [],
   "source": [
    "b = np.array([[1,2,3],\n",
    "              [4,5,6],\n",
    "              [7,8,9]])"
   ]
  },
  {
   "cell_type": "code",
   "execution_count": 21,
   "metadata": {},
   "outputs": [
    {
     "data": {
      "text/plain": [
       "array([[ 1,  4,  9],\n",
       "       [16, 25, 36],\n",
       "       [49, 64, 81]])"
      ]
     },
     "execution_count": 21,
     "metadata": {},
     "output_type": "execute_result"
    }
   ],
   "source": [
    "a*b"
   ]
  },
  {
   "cell_type": "code",
   "execution_count": 12,
   "metadata": {
    "collapsed": true
   },
   "outputs": [],
   "source": [
    "a = [[1,2,3],[4,5,6],[7,8,9]]"
   ]
  },
  {
   "cell_type": "code",
   "execution_count": 13,
   "metadata": {
    "collapsed": true
   },
   "outputs": [],
   "source": [
    "b = [[10,100,1000],[10000,100000,1000000],[10000000,100000000,1000000000]]\n"
   ]
  },
  {
   "cell_type": "code",
   "execution_count": 14,
   "metadata": {},
   "outputs": [
    {
     "ename": "TypeError",
     "evalue": "can't multiply sequence by non-int of type 'list'",
     "output_type": "error",
     "traceback": [
      "\u001b[0;31m---------------------------------------------------------------------------\u001b[0m",
      "\u001b[0;31mTypeError\u001b[0m                                 Traceback (most recent call last)",
      "\u001b[0;32m<ipython-input-14-8201c27d19b7>\u001b[0m in \u001b[0;36m<module>\u001b[0;34m()\u001b[0m\n\u001b[0;32m----> 1\u001b[0;31m \u001b[0ma\u001b[0m\u001b[0;34m*\u001b[0m\u001b[0mb\u001b[0m\u001b[0;34m\u001b[0m\u001b[0m\n\u001b[0m",
      "\u001b[0;31mTypeError\u001b[0m: can't multiply sequence by non-int of type 'list'"
     ]
    }
   ],
   "source": [
    "a*b"
   ]
  },
  {
   "cell_type": "code",
   "execution_count": null,
   "metadata": {
    "collapsed": true
   },
   "outputs": [],
   "source": []
  }
 ],
 "metadata": {
  "kernelspec": {
   "display_name": "Python 3",
   "language": "python",
   "name": "python3"
  },
  "language_info": {
   "codemirror_mode": {
    "name": "ipython",
    "version": 3
   },
   "file_extension": ".py",
   "mimetype": "text/x-python",
   "name": "python",
   "nbconvert_exporter": "python",
   "pygments_lexer": "ipython3",
   "version": "3.5.2"
  },
  "widgets": {
   "state": {},
   "version": "1.1.2"
  }
 },
 "nbformat": 4,
 "nbformat_minor": 2
}
